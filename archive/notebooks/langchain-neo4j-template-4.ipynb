{
 "cells": [
  {
   "cell_type": "markdown",
   "id": "a9183228-0ba6-4af9-8430-649e28868253",
   "metadata": {
    "id": "JMXGlIvAwn30"
   },
   "source": [
    "# Overview\n",
    "\n",
    "REFERENCE: https://python.langchain.com/docs/use_cases/graph/graph_cypher_qa\n",
    "\n",
    "\n",
    "## Setup"
   ]
  },
  {
   "cell_type": "code",
   "execution_count": 1,
   "id": "98bbc7c4",
   "metadata": {},
   "outputs": [],
   "source": [
    "#!pip install openai"
   ]
  },
  {
   "cell_type": "code",
   "execution_count": 2,
   "id": "125085c2",
   "metadata": {},
   "outputs": [],
   "source": [
    "#!pip install python-dotenv"
   ]
  },
  {
   "cell_type": "code",
   "execution_count": 3,
   "id": "16d796dd",
   "metadata": {},
   "outputs": [],
   "source": [
    "#!pip install  langchain langchain-experimental"
   ]
  },
  {
   "cell_type": "code",
   "execution_count": 4,
   "id": "637ba8a4",
   "metadata": {},
   "outputs": [],
   "source": [
    "#!pip install psycopg2 python-environ"
   ]
  },
  {
   "cell_type": "code",
   "execution_count": 5,
   "id": "7fa0d9b5",
   "metadata": {
    "tags": []
   },
   "outputs": [],
   "source": [
    "import os\n",
    "#import openai\n",
    "from dotenv import load_dotenv, find_dotenv\n",
    "from langchain.llms import OpenAI\n",
    "from langchain.chains import GraphCypherQAChain\n",
    "from langchain.chat_models import ChatOpenAI\n",
    "from langchain.graphs import Neo4jGraph\n",
    "from langchain.prompts.prompt import PromptTemplate\n",
    "\n",
    "_ = load_dotenv(find_dotenv()) \n",
    "#openai.api_key  = os.getenv('OPENAI_API_KEY')\n",
    "API_KEY = os.getenv('OPENAI_API_KEY')\n",
    "#DBPASS=os.getenv('DBPASS')\n",
    "#DATABASE=os.getenv('DATABASE')\n",
    "NEO4J_PASSWORD=os.getenv('NEO4J_PASSWORD')\n",
    "NEO4J_URL=os.getenv('NEO4J_URL')\n",
    "NEO4J_DB=os.getenv('NEO4J_DB')\n",
    "\n",
    "\n",
    "graph = Neo4jGraph(\n",
    "    url= NEO4J_URL, username=\"neo4j\", password=NEO4J_PASSWORD\n",
    ")"
   ]
  },
  {
   "cell_type": "code",
   "execution_count": 6,
   "id": "ce947945",
   "metadata": {},
   "outputs": [],
   "source": [
    "#print(graph.schema)"
   ]
  },
  {
   "cell_type": "code",
   "execution_count": 7,
   "id": "ff080706",
   "metadata": {},
   "outputs": [],
   "source": [
    "#graph.query(\"match (n:Processor{name:'grafana'})-[r:QUERIES|FORWARDS*]-(m) return n ,r,m\")\n"
   ]
  },
  {
   "cell_type": "code",
   "execution_count": 8,
   "id": "d6a37761",
   "metadata": {},
   "outputs": [],
   "source": [
    "CYPHER_GENERATION_TEMPLATE = \"\"\"Task:Generate Cypher statement to query a graph database.\n",
    "Instructions:\n",
    "Use only the provided relationship types and properties in the schema.\n",
    "Do not use any other relationship types or properties that are not provided.\n",
    "Ignore cases of the names or nouns provided in the question.\n",
    "\n",
    "Schema:\n",
    "{schema}\n",
    "\n",
    "\n",
    "Cypher examples:\n",
    "# How does grafana query data?\n",
    "MATCH p=(:Processor)-[:QUERIES 1..6]->()\n",
    "RETURN p AS path\n",
    "YIELD nodes, relationships RETURN nodes, relationships\n",
    "# How does data get into grafana?\n",
    "match(p)-[r*3]-(q:Processor) return p,q,r\n",
    "# How does Grafana get created?\n",
    "MATCH p=(:Users)-[*1..3]-()-[:CREATES]->(q:Processor)\n",
    "RETURN p AS path\n",
    "# How does grafana get installed?\n",
    "MATCH p=(:Users)-[*1..3]-()-[:CREATES]->(q:Processor)\n",
    "RETURN p AS path\n",
    "# Why do I not see any data in grafana?\n",
    "match(p)-[*3]-(q:Processor) return p,q\n",
    "\n",
    "Note: Do not include any explanations or apologies in your responses.\n",
    "Do not respond to any questions that might ask anything else than for you to construct a Cypher statement.\n",
    "Do not include any text except the generated Cypher statement.\n",
    "Examples: Here are a few examples of generated Cypher statements for particular questions:\n",
    "\n",
    "The question is:\n",
    "{question}\"\"\"\n",
    "\n",
    "CYPHER_GENERATION_PROMPT = PromptTemplate(\n",
    "    input_variables=[\"schema\", \"question\"], template=CYPHER_GENERATION_TEMPLATE\n",
    ")"
   ]
  },
  {
   "cell_type": "code",
   "execution_count": 9,
   "id": "fc386a0b",
   "metadata": {},
   "outputs": [],
   "source": [
    "chain = GraphCypherQAChain.from_llm(\n",
    "    ChatOpenAI(temperature=0), graph=graph, verbose=True,cypher_prompt=CYPHER_GENERATION_PROMPT\n",
    "    \n",
    ")"
   ]
  },
  {
   "cell_type": "markdown",
   "id": "66150670",
   "metadata": {},
   "source": [
    "### This does not add much value: return_intermediate_steps=True"
   ]
  },
  {
   "cell_type": "code",
   "execution_count": 10,
   "id": "a2bd01e1",
   "metadata": {},
   "outputs": [],
   "source": [
    "#chaindetail = GraphCypherQAChain.from_llm(\n",
    "#    ChatOpenAI(temperature=0), graph=graph, verbose=True, return_intermediate_steps=True\n",
    "#)\n",
    "#result = chaindetail(\"How does data get into grafana?\")\n",
    "#print(f\"Intermediate steps: {result['intermediate_steps']}\")\n",
    "#print(f\"Final answer: {result['result']}\")"
   ]
  },
  {
   "cell_type": "code",
   "execution_count": 11,
   "id": "1f092e44",
   "metadata": {},
   "outputs": [
    {
     "name": "stdout",
     "output_type": "stream",
     "text": [
      "\n",
      "\n",
      "\u001b[1m> Entering new GraphCypherQAChain chain...\u001b[0m\n",
      "Generated Cypher:\n",
      "\u001b[32;1m\u001b[1;3mMATCH p=(:Processor)-[*3]-(:Processor {name: \"grafana\"})\n",
      "RETURN p AS path\u001b[0m\n",
      "Full Context:\n",
      "\u001b[32;1m\u001b[1;3m[{'path': [{'namespace': 'open-cluster-management-agent', 'name': 'WorkAgent', 'onHub': 'false', 'type': 'Controller', 'entity': 'Processor', 'onManaged': 'true'}, 'WATCHES', {'namespace': 'managed-cluster-namespace', 'name': 'ManifestWork', 'onHub': 'true', 'type': 'Custom Resource', 'entity': 'IntermediateResource', 'onManaged': 'false'}, 'CREATES', {'namespace': 'open-cluster-management', 'name': 'MulticlusterObservabilityOperator', 'onHub': 'true', 'type': 'Controller', 'entity': 'Processor', 'onManaged': 'false'}, 'CREATES', {'namespace': 'open-cluster-management-observability', 'name': 'grafana', 'onHub': 'true', 'type': 'Pod', 'entity': 'Processor', 'onManaged': 'false'}]}, {'path': [{'namespace': 'open-cluster-management-observability', 'name': 'Thanos Receiver', 'onHub': 'true', 'type': 'Pod', 'entity': 'Processor', 'onManaged': 'false'}, 'CREATES', {'namespace': 'open-cluster-management-observability', 'name': 'ObservatoriumOperator', 'onHub': 'true', 'type': 'Controller', 'entity': 'Processor', 'onManaged': 'false'}, 'CREATES', {'namespace': 'open-cluster-management', 'name': 'MulticlusterObservabilityOperator', 'onHub': 'true', 'type': 'Controller', 'entity': 'Processor', 'onManaged': 'false'}, 'CREATES', {'namespace': 'open-cluster-management-observability', 'name': 'grafana', 'onHub': 'true', 'type': 'Pod', 'entity': 'Processor', 'onManaged': 'false'}]}, {'path': [{'namespace': 'open-cluster-management-observability', 'name': 'Thanos Compactor', 'onHub': 'true', 'type': 'Pod', 'entity': 'Processor', 'onManaged': 'false'}, 'CREATES', {'namespace': 'open-cluster-management-observability', 'name': 'ObservatoriumOperator', 'onHub': 'true', 'type': 'Controller', 'entity': 'Processor', 'onManaged': 'false'}, 'CREATES', {'namespace': 'open-cluster-management', 'name': 'MulticlusterObservabilityOperator', 'onHub': 'true', 'type': 'Controller', 'entity': 'Processor', 'onManaged': 'false'}, 'CREATES', {'namespace': 'open-cluster-management-observability', 'name': 'grafana', 'onHub': 'true', 'type': 'Pod', 'entity': 'Processor', 'onManaged': 'false'}]}, {'path': [{'namespace': 'open-cluster-management-observability', 'name': 'Thanos Store Gateway', 'onHub': 'true', 'type': 'Pod', 'entity': 'Processor', 'onManaged': 'false'}, 'CREATES', {'namespace': 'open-cluster-management-observability', 'name': 'ObservatoriumOperator', 'onHub': 'true', 'type': 'Controller', 'entity': 'Processor', 'onManaged': 'false'}, 'CREATES', {'namespace': 'open-cluster-management', 'name': 'MulticlusterObservabilityOperator', 'onHub': 'true', 'type': 'Controller', 'entity': 'Processor', 'onManaged': 'false'}, 'CREATES', {'namespace': 'open-cluster-management-observability', 'name': 'grafana', 'onHub': 'true', 'type': 'Pod', 'entity': 'Processor', 'onManaged': 'false'}]}, {'path': [{'namespace': 'open-cluster-management-observability', 'name': 'Thanos Store Cache', 'onHub': 'true', 'type': 'Cache', 'entity': 'Processor', 'onManaged': 'false'}, 'CREATES', {'namespace': 'open-cluster-management-observability', 'name': 'ObservatoriumOperator', 'onHub': 'true', 'type': 'Controller', 'entity': 'Processor', 'onManaged': 'false'}, 'CREATES', {'namespace': 'open-cluster-management', 'name': 'MulticlusterObservabilityOperator', 'onHub': 'true', 'type': 'Controller', 'entity': 'Processor', 'onManaged': 'false'}, 'CREATES', {'namespace': 'open-cluster-management-observability', 'name': 'grafana', 'onHub': 'true', 'type': 'Pod', 'entity': 'Processor', 'onManaged': 'false'}]}, {'path': [{'namespace': 'open-cluster-management-observability', 'name': 'Thanos Querier', 'onHub': 'true', 'type': 'Cache', 'entity': 'Processor', 'onManaged': 'false'}, 'CREATES', {'namespace': 'open-cluster-management-observability', 'name': 'ObservatoriumOperator', 'onHub': 'true', 'type': 'Controller', 'entity': 'Processor', 'onManaged': 'false'}, 'CREATES', {'namespace': 'open-cluster-management', 'name': 'MulticlusterObservabilityOperator', 'onHub': 'true', 'type': 'Controller', 'entity': 'Processor', 'onManaged': 'false'}, 'CREATES', {'namespace': 'open-cluster-management-observability', 'name': 'grafana', 'onHub': 'true', 'type': 'Pod', 'entity': 'Processor', 'onManaged': 'false'}]}, {'path': [{'namespace': 'open-cluster-management-observability', 'name': 'Thanos Query Frontend', 'onHub': 'true', 'type': 'Cache', 'entity': 'Processor', 'onManaged': 'false'}, 'CREATES', {'namespace': 'open-cluster-management-observability', 'name': 'ObservatoriumOperator', 'onHub': 'true', 'type': 'Controller', 'entity': 'Processor', 'onManaged': 'false'}, 'CREATES', {'namespace': 'open-cluster-management', 'name': 'MulticlusterObservabilityOperator', 'onHub': 'true', 'type': 'Controller', 'entity': 'Processor', 'onManaged': 'false'}, 'CREATES', {'namespace': 'open-cluster-management-observability', 'name': 'grafana', 'onHub': 'true', 'type': 'Pod', 'entity': 'Processor', 'onManaged': 'false'}]}, {'path': [{'namespace': 'open-cluster-management-observability', 'name': 'Thanos Query Frontend Cache', 'onHub': 'true', 'type': 'Cache', 'entity': 'Processor', 'onManaged': 'false'}, 'CREATES', {'namespace': 'open-cluster-management-observability', 'name': 'ObservatoriumOperator', 'onHub': 'true', 'type': 'Controller', 'entity': 'Processor', 'onManaged': 'false'}, 'CREATES', {'namespace': 'open-cluster-management', 'name': 'MulticlusterObservabilityOperator', 'onHub': 'true', 'type': 'Controller', 'entity': 'Processor', 'onManaged': 'false'}, 'CREATES', {'namespace': 'open-cluster-management-observability', 'name': 'grafana', 'onHub': 'true', 'type': 'Pod', 'entity': 'Processor', 'onManaged': 'false'}]}, {'path': [{'namespace': 'open-cluster-management-observability', 'name': 'Thanos Ruler', 'onHub': 'true', 'type': 'Pod', 'entity': 'Processor', 'onManaged': 'false'}, 'CREATES', {'namespace': 'open-cluster-management-observability', 'name': 'ObservatoriumOperator', 'onHub': 'true', 'type': 'Controller', 'entity': 'Processor', 'onManaged': 'false'}, 'CREATES', {'namespace': 'open-cluster-management', 'name': 'MulticlusterObservabilityOperator', 'onHub': 'true', 'type': 'Controller', 'entity': 'Processor', 'onManaged': 'false'}, 'CREATES', {'namespace': 'open-cluster-management-observability', 'name': 'grafana', 'onHub': 'true', 'type': 'Pod', 'entity': 'Processor', 'onManaged': 'false'}]}, {'path': [{'namespace': 'open-cluster-management-observability', 'name': 'ObservatoriumOperator', 'onHub': 'true', 'type': 'Controller', 'entity': 'Processor', 'onManaged': 'false'}, 'WATCHES', {'namespace': 'open-cluster-management-observability', 'name': 'Observatorium CR', 'onHub': 'true', 'type': 'Custom Resource', 'entity': 'IntermediateResource', 'onManaged': 'false'}, 'CREATES', {'namespace': 'open-cluster-management', 'name': 'MulticlusterObservabilityOperator', 'onHub': 'true', 'type': 'Controller', 'entity': 'Processor', 'onManaged': 'false'}, 'CREATES', {'namespace': 'open-cluster-management-observability', 'name': 'grafana', 'onHub': 'true', 'type': 'Pod', 'entity': 'Processor', 'onManaged': 'false'}]}]\u001b[0m\n",
      "\n",
      "\u001b[1m> Finished chain.\u001b[0m\n"
     ]
    },
    {
     "data": {
      "text/plain": [
       "'Data gets into Grafana through a series of processes. First, the MulticlusterObservabilityOperator in the open-cluster-management namespace creates the Grafana pod in the open-cluster-management-observability namespace. Then, the ObservatoriumOperator in the open-cluster-management-observability namespace creates the Observatorium CR, which is a custom resource. Finally, the ObservatoriumOperator watches the Observatorium CR and creates the necessary resources to collect and store data, which is then visualized in Grafana.'"
      ]
     },
     "execution_count": 11,
     "metadata": {},
     "output_type": "execute_result"
    }
   ],
   "source": [
    "chain.run(\"How does data get into grafana?\")"
   ]
  },
  {
   "cell_type": "code",
   "execution_count": 12,
   "id": "cb9fb268",
   "metadata": {},
   "outputs": [
    {
     "name": "stdout",
     "output_type": "stream",
     "text": [
      "\n",
      "\n",
      "\u001b[1m> Entering new GraphCypherQAChain chain...\u001b[0m\n",
      "Generated Cypher:\n",
      "\u001b[32;1m\u001b[1;3mMATCH (u:Users)-[:CREATES]->(n)\n",
      "RETURN n.name AS createdThing\u001b[0m\n",
      "Full Context:\n",
      "\u001b[32;1m\u001b[1;3m[{'createdThing': 'Placement'}, {'createdThing': 'PlacementBinding'}, {'createdThing': 'PolicyAutomation'}, {'createdThing': 'Policy'}, {'createdThing': 'ThanosObjectStoreSecret'}, {'createdThing': 'ObservabilityNamespace'}, {'createdThing': 'MCO-CR'}]\u001b[0m\n",
      "\n",
      "\u001b[1m> Finished chain.\u001b[0m\n"
     ]
    },
    {
     "data": {
      "text/plain": [
       "'The names of the things that Users create are Placement, PlacementBinding, PolicyAutomation, Policy, ThanosObjectStoreSecret, ObservabilityNamespace, and MCO-CR.'"
      ]
     },
     "execution_count": 12,
     "metadata": {},
     "output_type": "execute_result"
    }
   ],
   "source": [
    "chain.run(\"What are the names of the things that Users create?\")"
   ]
  },
  {
   "cell_type": "code",
   "execution_count": 13,
   "id": "e1d80557",
   "metadata": {},
   "outputs": [
    {
     "name": "stdout",
     "output_type": "stream",
     "text": [
      "\n",
      "\n",
      "\u001b[1m> Entering new GraphCypherQAChain chain...\u001b[0m\n",
      "Generated Cypher:\n",
      "\u001b[32;1m\u001b[1;3mMATCH p=(:Users)-[*1..3]-()-[:CREATES]->(:API {name: \"alert-manager\"})\n",
      "RETURN p AS path\u001b[0m\n",
      "Full Context:\n",
      "\u001b[32;1m\u001b[1;3m[]\u001b[0m\n",
      "\n",
      "\u001b[1m> Finished chain.\u001b[0m\n"
     ]
    },
    {
     "data": {
      "text/plain": [
       "\"I'm sorry, but I don't have the information to answer your question.\""
      ]
     },
     "execution_count": 13,
     "metadata": {},
     "output_type": "execute_result"
    }
   ],
   "source": [
    "chain.run(\"How does alert-manager get created?\")"
   ]
  },
  {
   "cell_type": "code",
   "execution_count": 14,
   "id": "e8ee1be4",
   "metadata": {},
   "outputs": [
    {
     "name": "stdout",
     "output_type": "stream",
     "text": [
      "\n",
      "\n",
      "\u001b[1m> Entering new GraphCypherQAChain chain...\u001b[0m\n",
      "Generated Cypher:\n",
      "\u001b[32;1m\u001b[1;3mMATCH p=(:Processor)-[*3]->(:API {name: \"grafana\"})\n",
      "RETURN p AS path\u001b[0m\n",
      "Full Context:\n",
      "\u001b[32;1m\u001b[1;3m[]\u001b[0m\n",
      "\n",
      "\u001b[1m> Finished chain.\u001b[0m\n"
     ]
    },
    {
     "data": {
      "text/plain": [
       "'There could be several reasons why you are not seeing any data in Grafana. It is possible that there is no data being collected or sent to Grafana from the data source. Another possibility is that there may be an issue with the data source configuration in Grafana, such as incorrect credentials or connection settings. Additionally, it is also worth checking if there are any filters or time range settings applied in Grafana that may be hiding the data.'"
      ]
     },
     "execution_count": 14,
     "metadata": {},
     "output_type": "execute_result"
    }
   ],
   "source": [
    "chain.run(\"Why do I not see any data in grafana\")"
   ]
  },
  {
   "cell_type": "code",
   "execution_count": 15,
   "id": "51e81a95",
   "metadata": {},
   "outputs": [
    {
     "name": "stdout",
     "output_type": "stream",
     "text": [
      "\n",
      "\n",
      "\u001b[1m> Entering new GraphCypherQAChain chain...\u001b[0m\n",
      "Generated Cypher:\n",
      "\u001b[32;1m\u001b[1;3mMATCH p=(:Users)-[*1..3]-()-[:CREATES]->(q:Processor)\n",
      "RETURN p AS path\u001b[0m\n",
      "Full Context:\n",
      "\u001b[32;1m\u001b[1;3m[{'path': [{'name': 'User', 'entity': 'Users'}, 'CREATES', {'namespace': 'cluster-scoped', 'name': 'MCO-CR', 'onHub': 'true', 'type': 'Custom Resource', 'entity': 'API', 'onManaged': 'false'}, 'WATCHES', {'namespace': 'open-cluster-management', 'name': 'MulticlusterObservabilityOperator', 'onHub': 'true', 'type': 'Controller', 'entity': 'Processor', 'onManaged': 'false'}, 'CREATES', {'namespace': 'open-cluster-management-observability', 'name': 'alert-manager', 'onHub': 'true', 'type': 'Pod', 'entity': 'Processor', 'onManaged': 'false'}]}, {'path': [{'name': 'User', 'entity': 'Users'}, 'CREATES', {'namespace': 'cluster-scoped', 'name': 'MCO-CR', 'onHub': 'true', 'type': 'Custom Resource', 'entity': 'API', 'onManaged': 'false'}, 'WATCHES', {'namespace': 'open-cluster-management', 'name': 'MulticlusterObservabilityOperator', 'onHub': 'true', 'type': 'Controller', 'entity': 'Processor', 'onManaged': 'false'}, 'CREATES', {'namespace': 'open-cluster-management-observability', 'name': 'grafana', 'onHub': 'true', 'type': 'Pod', 'entity': 'Processor', 'onManaged': 'false'}]}, {'path': [{'name': 'User', 'entity': 'Users'}, 'CREATES', {'namespace': 'cluster-scoped', 'name': 'MCO-CR', 'onHub': 'true', 'type': 'Custom Resource', 'entity': 'API', 'onManaged': 'false'}, 'WATCHES', {'namespace': 'open-cluster-management', 'name': 'MulticlusterObservabilityOperator', 'onHub': 'true', 'type': 'Controller', 'entity': 'Processor', 'onManaged': 'false'}, 'CREATES', {'namespace': 'open-cluster-management-observability', 'name': 'rbac-query-proxy', 'onHub': 'true', 'type': 'Pod', 'entity': 'Processor', 'onManaged': 'false'}]}, {'path': [{'name': 'User', 'entity': 'Users'}, 'CREATES', {'namespace': 'cluster-scoped', 'name': 'MCO-CR', 'onHub': 'true', 'type': 'Custom Resource', 'entity': 'API', 'onManaged': 'false'}, 'WATCHES', {'namespace': 'open-cluster-management', 'name': 'MulticlusterObservabilityOperator', 'onHub': 'true', 'type': 'Controller', 'entity': 'Processor', 'onManaged': 'false'}, 'CREATES', {'namespace': 'open-cluster-management-observability', 'name': 'Observatorium-api', 'onHub': 'true', 'type': 'Pod', 'entity': 'Processor', 'onManaged': 'false'}]}, {'path': [{'name': 'User', 'entity': 'Users'}, 'CREATES', {'namespace': 'cluster-scoped', 'name': 'MCO-CR', 'onHub': 'true', 'type': 'Custom Resource', 'entity': 'API', 'onManaged': 'false'}, 'WATCHES', {'namespace': 'open-cluster-management', 'name': 'MulticlusterObservabilityOperator', 'onHub': 'true', 'type': 'Controller', 'entity': 'Processor', 'onManaged': 'false'}, 'CREATES', {'namespace': 'open-cluster-management-observability', 'name': 'ObservatoriumOperator', 'onHub': 'true', 'type': 'Controller', 'entity': 'Processor', 'onManaged': 'false'}]}, {'path': [{'name': 'User', 'entity': 'Users'}, 'CREATES', {'namespace': 'cluster-scoped', 'name': 'MCO-CR', 'onHub': 'true', 'type': 'Custom Resource', 'entity': 'API', 'onManaged': 'false'}, 'WATCHES', {'namespace': 'open-cluster-management', 'name': 'MulticlusterObservabilityOperator', 'onHub': 'true', 'type': 'Controller', 'entity': 'Processor', 'onManaged': 'false'}, 'CREATES', {'namespace': 'open-cluster-management-observability', 'name': 'ObservatoriumOperator', 'onHub': 'true', 'type': 'Controller', 'entity': 'Processor', 'onManaged': 'false'}, 'CREATES', {'namespace': 'open-cluster-management-observability', 'name': 'Thanos Ruler', 'onHub': 'true', 'type': 'Pod', 'entity': 'Processor', 'onManaged': 'false'}]}, {'path': [{'name': 'User', 'entity': 'Users'}, 'CREATES', {'namespace': 'cluster-scoped', 'name': 'MCO-CR', 'onHub': 'true', 'type': 'Custom Resource', 'entity': 'API', 'onManaged': 'false'}, 'WATCHES', {'namespace': 'open-cluster-management', 'name': 'MulticlusterObservabilityOperator', 'onHub': 'true', 'type': 'Controller', 'entity': 'Processor', 'onManaged': 'false'}, 'CREATES', {'namespace': 'open-cluster-management-observability', 'name': 'ObservatoriumOperator', 'onHub': 'true', 'type': 'Controller', 'entity': 'Processor', 'onManaged': 'false'}, 'CREATES', {'namespace': 'open-cluster-management-observability', 'name': 'Thanos Query Frontend Cache', 'onHub': 'true', 'type': 'Cache', 'entity': 'Processor', 'onManaged': 'false'}]}, {'path': [{'name': 'User', 'entity': 'Users'}, 'CREATES', {'namespace': 'cluster-scoped', 'name': 'MCO-CR', 'onHub': 'true', 'type': 'Custom Resource', 'entity': 'API', 'onManaged': 'false'}, 'WATCHES', {'namespace': 'open-cluster-management', 'name': 'MulticlusterObservabilityOperator', 'onHub': 'true', 'type': 'Controller', 'entity': 'Processor', 'onManaged': 'false'}, 'CREATES', {'namespace': 'open-cluster-management-observability', 'name': 'ObservatoriumOperator', 'onHub': 'true', 'type': 'Controller', 'entity': 'Processor', 'onManaged': 'false'}, 'CREATES', {'namespace': 'open-cluster-management-observability', 'name': 'Thanos Query Frontend', 'onHub': 'true', 'type': 'Cache', 'entity': 'Processor', 'onManaged': 'false'}]}, {'path': [{'name': 'User', 'entity': 'Users'}, 'CREATES', {'namespace': 'cluster-scoped', 'name': 'MCO-CR', 'onHub': 'true', 'type': 'Custom Resource', 'entity': 'API', 'onManaged': 'false'}, 'WATCHES', {'namespace': 'open-cluster-management', 'name': 'MulticlusterObservabilityOperator', 'onHub': 'true', 'type': 'Controller', 'entity': 'Processor', 'onManaged': 'false'}, 'CREATES', {'namespace': 'open-cluster-management-observability', 'name': 'ObservatoriumOperator', 'onHub': 'true', 'type': 'Controller', 'entity': 'Processor', 'onManaged': 'false'}, 'CREATES', {'namespace': 'open-cluster-management-observability', 'name': 'Thanos Querier', 'onHub': 'true', 'type': 'Cache', 'entity': 'Processor', 'onManaged': 'false'}]}, {'path': [{'name': 'User', 'entity': 'Users'}, 'CREATES', {'namespace': 'cluster-scoped', 'name': 'MCO-CR', 'onHub': 'true', 'type': 'Custom Resource', 'entity': 'API', 'onManaged': 'false'}, 'WATCHES', {'namespace': 'open-cluster-management', 'name': 'MulticlusterObservabilityOperator', 'onHub': 'true', 'type': 'Controller', 'entity': 'Processor', 'onManaged': 'false'}, 'CREATES', {'namespace': 'open-cluster-management-observability', 'name': 'ObservatoriumOperator', 'onHub': 'true', 'type': 'Controller', 'entity': 'Processor', 'onManaged': 'false'}, 'CREATES', {'namespace': 'open-cluster-management-observability', 'name': 'Thanos Store Cache', 'onHub': 'true', 'type': 'Cache', 'entity': 'Processor', 'onManaged': 'false'}]}]\u001b[0m\n",
      "\n",
      "\u001b[1m> Finished chain.\u001b[0m\n"
     ]
    },
    {
     "data": {
      "text/plain": [
       "'Grafana gets created through a series of steps. First, a user creates a custom resource called MCO-CR in the cluster-scoped namespace. Then, the MulticlusterObservabilityOperator, which is a controller in the open-cluster-management namespace, watches for this custom resource. Once the MulticlusterObservabilityOperator detects the creation of the MCO-CR, it creates a pod called grafana in the open-cluster-management-observability namespace.'"
      ]
     },
     "execution_count": 15,
     "metadata": {},
     "output_type": "execute_result"
    }
   ],
   "source": [
    "chain.run(\"How does grafana get created?\")"
   ]
  },
  {
   "cell_type": "code",
   "execution_count": null,
   "id": "97397df4",
   "metadata": {},
   "outputs": [],
   "source": []
  }
 ],
 "metadata": {
  "kernelspec": {
   "display_name": "Python 3 (ipykernel)",
   "language": "python",
   "name": "python3"
  },
  "language_info": {
   "codemirror_mode": {
    "name": "ipython",
    "version": 3
   },
   "file_extension": ".py",
   "mimetype": "text/x-python",
   "name": "python",
   "nbconvert_exporter": "python",
   "pygments_lexer": "ipython3",
   "version": "3.9.12"
  }
 },
 "nbformat": 4,
 "nbformat_minor": 5
}
